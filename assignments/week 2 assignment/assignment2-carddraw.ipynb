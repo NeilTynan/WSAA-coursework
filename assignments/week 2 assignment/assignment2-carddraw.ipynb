{
 "cells": [
  {
   "cell_type": "code",
   "execution_count": 7,
   "metadata": {},
   "outputs": [],
   "source": [
    "#Import Libraries\n",
    "\n",
    "import requests\n",
    "import json\n",
    "from collections import Counter"
   ]
  },
  {
   "cell_type": "code",
   "execution_count": 8,
   "metadata": {},
   "outputs": [],
   "source": [
    "# Shuffle the deck\n",
    "\n",
    "url = \"https://deckofcardsapi.com/api/deck/new/shuffle/?deck_count=1\"\n",
    "response = requests.get(url)\n",
    "shuffle = response.json()\n",
    "deck = shuffle[\"deck_id\"]"
   ]
  },
  {
   "cell_type": "code",
   "execution_count": 9,
   "metadata": {},
   "outputs": [],
   "source": [
    "# Draw Cards from the Deck\n",
    "\n",
    "url2 = \"https://deckofcardsapi.com/api/deck/{deck}/draw/?count=5\".format(deck=deck)\n",
    "fivecards = requests.get(url2)"
   ]
  },
  {
   "cell_type": "code",
   "execution_count": 10,
   "metadata": {},
   "outputs": [
    {
     "name": "stdout",
     "output_type": "stream",
     "text": [
      "2 of HEARTS\n",
      "4 of CLUBS\n",
      "10 of HEARTS\n",
      "KING of DIAMONDS\n",
      "5 of CLUBS\n"
     ]
    }
   ],
   "source": [
    "# Display Five Cards Drawn\n",
    "\n",
    "deal = fivecards.json()\n",
    "hand = deal[\"cards\"]\n",
    "for card in hand:\n",
    "    print(card[\"value\"],\"of\",card[\"suit\"])"
   ]
  },
  {
   "cell_type": "code",
   "execution_count": 13,
   "metadata": {},
   "outputs": [
    {
     "name": "stdout",
     "output_type": "stream",
     "text": [
      "This hand has a Straight.\n",
      "This hand has a Straight.\n",
      "This hand has a Straight.\n",
      "This hand has a Straight.\n",
      "This hand has a Straight.\n"
     ]
    }
   ],
   "source": [
    "# Check to see if the hand contains a Pair, Triple, Straight or Flush\n",
    "\n",
    "num = [card[\"value\"] for card in hand]\n",
    "suits = [card[\"suit\"] for card in hand]\n",
    "\n",
    "test = [1,2,3,4,5]\n",
    "\n",
    "cnt = Counter()\n",
    "for value in test:\n",
    "    cnt[value] += 1\n",
    "    if cnt[value] == 2 and cnt[value] !=3:\n",
    "        print(\"This hand has a Pair\")\n",
    "    elif cnt[value] == 3 and cnt[value] !=2:\n",
    "        print(\"This hand has a Triple\")\n",
    "    elif max(test) - min(test) == 4 and len(test) == 5:\n",
    "        print(\"This hand has a Straight.\")\n",
    "\n",
    "\n",
    "if len(set(suits)) == 1:\n",
    "    print(\"This hand has a Flush\")\n"
   ]
  },
  {
   "cell_type": "code",
   "execution_count": null,
   "metadata": {},
   "outputs": [],
   "source": []
  }
 ],
 "metadata": {
  "kernelspec": {
   "display_name": "Python 3",
   "language": "python",
   "name": "python3"
  },
  "language_info": {
   "codemirror_mode": {
    "name": "ipython",
    "version": 3
   },
   "file_extension": ".py",
   "mimetype": "text/x-python",
   "name": "python",
   "nbconvert_exporter": "python",
   "pygments_lexer": "ipython3",
   "version": "3.12.1"
  }
 },
 "nbformat": 4,
 "nbformat_minor": 2
}

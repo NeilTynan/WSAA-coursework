{
 "cells": [
  {
   "cell_type": "code",
   "execution_count": 4,
   "metadata": {},
   "outputs": [],
   "source": [
    "#Import Libraries\n",
    "\n",
    "import requests\n",
    "import json\n",
    "from collections import Counter"
   ]
  },
  {
   "cell_type": "code",
   "execution_count": 5,
   "metadata": {},
   "outputs": [],
   "source": [
    "# Shuffle the deck\n",
    "\n",
    "url = \"https://deckofcardsapi.com/api/deck/new/shuffle/?deck_count=1\"\n",
    "response = requests.get(url)\n",
    "shuffle = response.json()\n",
    "deck = shuffle[\"deck_id\"]"
   ]
  },
  {
   "cell_type": "code",
   "execution_count": 6,
   "metadata": {},
   "outputs": [],
   "source": [
    "# Draw Cards from the Deck\n",
    "\n",
    "url2 = \"https://deckofcardsapi.com/api/deck/{deck}/draw/?count=5\".format(deck=deck)\n",
    "fivecards = requests.get(url2)"
   ]
  },
  {
   "cell_type": "code",
   "execution_count": 7,
   "metadata": {},
   "outputs": [
    {
     "name": "stdout",
     "output_type": "stream",
     "text": [
      "3 of DIAMONDS\n",
      "5 of DIAMONDS\n",
      "6 of HEARTS\n",
      "JACK of DIAMONDS\n",
      "8 of CLUBS\n"
     ]
    }
   ],
   "source": [
    "# Display Five Cards Drawn\n",
    "\n",
    "deal = fivecards.json()\n",
    "hand = deal[\"cards\"]\n",
    "for card in hand:\n",
    "    print(card[\"value\"],\"of\",card[\"suit\"])"
   ]
  },
  {
   "cell_type": "code",
   "execution_count": null,
   "metadata": {},
   "outputs": [
    {
     "name": "stdout",
     "output_type": "stream",
     "text": [
      "This hand has a Straight.\n"
     ]
    }
   ],
   "source": [
    "# Check to see if the hand contains a Pair, Triple, Straight or Flush\n",
    "\n",
    "num = [card[\"value\"] for card in hand]\n",
    "suits = [card[\"suit\"] for card in hand]\n",
    "\n",
    "cnt = Counter(num)\n",
    "\n",
    "for value, count in cnt.items():\n",
    "    if count == 2:\n",
    "        print(\"This hand has a Pair\") \n",
    "        break \n",
    "    elif count == 3:\n",
    "        print(\"This hand has a Triple\")\n",
    "        break\n",
    "    elif len(set(num)) == 5 and max(num) - min(num) == 4: \n",
    "        print(\"This hand has a Straight.\")\n",
    "        break\n",
    "\n",
    "if len(set(suits)) == 1:\n",
    "    print(\"This hand has a Flush\")\n"
   ]
  },
  {
   "cell_type": "code",
   "execution_count": null,
   "metadata": {},
   "outputs": [],
   "source": []
  }
 ],
 "metadata": {
  "kernelspec": {
   "display_name": "Python 3",
   "language": "python",
   "name": "python3"
  },
  "language_info": {
   "codemirror_mode": {
    "name": "ipython",
    "version": 3
   },
   "file_extension": ".py",
   "mimetype": "text/x-python",
   "name": "python",
   "nbconvert_exporter": "python",
   "pygments_lexer": "ipython3",
   "version": "3.12.1"
  }
 },
 "nbformat": 4,
 "nbformat_minor": 2
}

{
 "cells": [
  {
   "cell_type": "code",
   "execution_count": 63,
   "metadata": {},
   "outputs": [],
   "source": [
    "#Import Libraries\n",
    "\n",
    "import requests\n",
    "import json\n",
    "from collections import Counter"
   ]
  },
  {
   "cell_type": "code",
   "execution_count": 49,
   "metadata": {},
   "outputs": [],
   "source": [
    "# Shuffle the deck\n",
    "\n",
    "url = \"https://deckofcardsapi.com/api/deck/new/shuffle/?deck_count=1\"\n",
    "response = requests.get(url)\n",
    "shuffle = response.json()\n",
    "deck = shuffle[\"deck_id\"]"
   ]
  },
  {
   "cell_type": "code",
   "execution_count": 72,
   "metadata": {},
   "outputs": [],
   "source": [
    "# Draw Cards from the Deck\n",
    "\n",
    "url2 = \"https://deckofcardsapi.com/api/deck/{deck}/draw/?count=5\".format(deck=deck)\n",
    "fivecards = requests.get(url2)"
   ]
  },
  {
   "cell_type": "code",
   "execution_count": 73,
   "metadata": {},
   "outputs": [
    {
     "name": "stdout",
     "output_type": "stream",
     "text": [
      "4 of HEARTS\n",
      "5 of DIAMONDS\n",
      "JACK of SPADES\n",
      "JACK of DIAMONDS\n",
      "6 of DIAMONDS\n"
     ]
    }
   ],
   "source": [
    "# Display Five Cards Drawn\n",
    "\n",
    "deal = fivecards.json()\n",
    "hand = deal[\"cards\"]\n",
    "for card in hand:\n",
    "    print(card[\"value\"],\"of\",card[\"suit\"])"
   ]
  },
  {
   "cell_type": "code",
   "execution_count": 101,
   "metadata": {},
   "outputs": [
    {
     "name": "stdout",
     "output_type": "stream",
     "text": [
      "This hand had a Pair\n"
     ]
    }
   ],
   "source": [
    "# Check to see if the hand contains a Pair, Triple, Straight or Flush\n",
    "\n",
    "num = [card[\"value\"] for card in hand]\n",
    "suits = [card[\"suit\"] for card in hand]\n",
    "\n",
    "cnt = Counter()\n",
    "for value in num:\n",
    "    cnt[value] += 1\n",
    "    if cnt[value] == 2:\n",
    "        print(\"This hand had a Pair\")\n",
    "    if cnt[value] == 3:\n",
    "        print(\"This hand had a Triple\")\n",
    "\n",
    "if len(set(suits)) == 1:\n",
    "    print(\"This hand had a Flush\")\n"
   ]
  },
  {
   "cell_type": "code",
   "execution_count": null,
   "metadata": {},
   "outputs": [
    {
     "name": "stdout",
     "output_type": "stream",
     "text": [
      "No flush\n"
     ]
    }
   ],
   "source": [
    "\n"
   ]
  }
 ],
 "metadata": {
  "kernelspec": {
   "display_name": "Python 3",
   "language": "python",
   "name": "python3"
  },
  "language_info": {
   "codemirror_mode": {
    "name": "ipython",
    "version": 3
   },
   "file_extension": ".py",
   "mimetype": "text/x-python",
   "name": "python",
   "nbconvert_exporter": "python",
   "pygments_lexer": "ipython3",
   "version": "3.12.1"
  }
 },
 "nbformat": 4,
 "nbformat_minor": 2
}
